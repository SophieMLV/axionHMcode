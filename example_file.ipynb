{
 "cells": [
  {
   "cell_type": "code",
   "execution_count": 1,
   "id": "32ca053b-ab4d-44d8-9fe6-229a85aa9e4e",
   "metadata": {},
   "outputs": [
    {
     "name": "stdout",
     "output_type": "stream",
     "text": [
      "Intel MKL WARNING: Support of Intel(R) Streaming SIMD Extensions 4.2 (Intel(R) SSE4.2) enabled only processors has been deprecated. Intel oneAPI Math Kernel Library 2025.0 will require Intel(R) Advanced Vector Extensions (Intel(R) AVX) instructions.\n",
      "Intel MKL WARNING: Support of Intel(R) Streaming SIMD Extensions 4.2 (Intel(R) SSE4.2) enabled only processors has been deprecated. Intel oneAPI Math Kernel Library 2025.0 will require Intel(R) Advanced Vector Extensions (Intel(R) AVX) instructions.\n"
     ]
    }
   ],
   "source": [
    "%load_ext autoreload\n",
    "\n",
    "%autoreload 2\n",
    "\n",
    "import numpy as np\n",
    "import time\n",
    "import matplotlib\n",
    "from matplotlib import pyplot as plt\n",
    "import os\n",
    "\n",
    "import sys\n",
    "# sys.path.append('axionCAMB_and_lin_PS/')\n",
    "# sys.path.append('cosmology/')\n",
    "# sys.path.append('axion_functions/')\n",
    "# sys.path.append('halo_model/')\n",
    "\n",
    "from axionCAMB_and_lin_PS import axionCAMB_wrapper \n",
    "from axionCAMB_and_lin_PS import load_cosmology  \n",
    "from axionCAMB_and_lin_PS import lin_power_spectrum \n",
    "from axionCAMB_and_lin_PS import PS_interpolate \n",
    "# import axionCAMB_and_lin_PS.axionCAMB_wrapper \n",
    "# import axionCAMB_and_lin_PS.load_cosmology  \n",
    "# import axionCAMB_and_lin_PS.lin_power_spectrum \n",
    "# import axionCAMB_and_lin_PS.PS_interpolate \n",
    "\n",
    "from halo_model import HMcode_params\n",
    "from halo_model import PS_nonlin_cold\n",
    "from halo_model import PS_nonlin_axion\n",
    "\n",
    "from axion_functions import axion_params"
   ]
  },
  {
   "cell_type": "code",
   "execution_count": null,
   "id": "1f5c8ad0",
   "metadata": {},
   "outputs": [],
   "source": []
  },
  {
   "cell_type": "code",
   "execution_count": 2,
   "id": "0338076f-d68f-42c4-8971-3b33aa851d22",
   "metadata": {},
   "outputs": [
    {
     "name": "stdout",
     "output_type": "stream",
     "text": [
      "##################################################\n",
      "axionHMcode is running\n",
      "##################################################\n",
      "Set-up experiment parameters\n",
      "computing the non-linear total matter power spectrum in the folowing MDM colsmology \n",
      "\n",
      "omega_m = 0.14237 \n",
      "omega_cdm = 0.108 \n",
      "omega_ax = 0.012 \n",
      "omega_b = 0.02237 \n",
      "m_ax = 1e-25eV \n",
      "z = 0.0 \n",
      "h = 0.674 \n",
      "\n",
      "--------------------------------------------------\n",
      "axionCAMB is running. Computes transfer function for cosmology with a axion fraction of 0.1\n"
     ]
    },
    {
     "name": "stderr",
     "output_type": "stream",
     "text": [
      "Note: The following floating-point exceptions are signalling: IEEE_INVALID_FLAG IEEE_DIVIDE_BY_ZERO IEEE_UNDERFLOW_FLAG\n"
     ]
    },
    {
     "name": "stdout",
     "output_type": "stream",
     "text": [
      "axionCAMB is running. Computes transfer function for a LCDM cosmology\n"
     ]
    },
    {
     "name": "stderr",
     "output_type": "stream",
     "text": [
      "Note: The following floating-point exceptions are signalling: IEEE_INVALID_FLAG IEEE_DIVIDE_BY_ZERO IEEE_UNDERFLOW_FLAG\n"
     ]
    },
    {
     "name": "stdout",
     "output_type": "stream",
     "text": [
      "computation time: 61 s\n",
      "--------------------------------------------------\n",
      "Calculate axion quantities; cut-off mass, central density scale of axion density profile and axion halo mass.\n",
      "Create dictionary with parameters of HMCode2020\n",
      "computation time upto here: 186 s\n"
     ]
    }
   ],
   "source": [
    "start = time.time()\n",
    "\n",
    "print('#' * 50)\n",
    "print('axionHMcode is running')\n",
    "print('#' * 50)\n",
    "\n",
    "################################################################################\n",
    "# Set-up experiment parameters and run axionCAMB\n",
    "################################################################################\n",
    "#print('#' * 50)\n",
    "print('Set-up experiment parameters')\n",
    "#print('#' * 50)\n",
    "\n",
    "#IMPORTANT: give the correct path to the intput file which contains all important cosmological parameter\n",
    "input_file_path = 'input_file.txt'\n",
    "try:\n",
    "    f = open(input_file_path)\n",
    "except IOError:\n",
    "    print(\"Input file not accessible, pleas check the file path\")\n",
    "finally:\n",
    "    f.close()\n",
    "    \n",
    "#IMPORTANT:Change here the path to the axionCAMB executable path directory (second path in the function)\n",
    "# assumes that thee axionCAMB executable is names .camb\n",
    "axionCAMB_exe_path = '/Users/sophievogt/Documents/axionCAMB'\n",
    "if os.path.exists(axionCAMB_exe_path+'/./camb') == False:\n",
    "    print(\"executabel axionCAMB is not in the given directory, pleas check the path\")\n",
    "      \n",
    "    \n",
    "################################################################################    \n",
    "# save cosmological parameter in a dictionary \n",
    "################################################################################\n",
    "cosmos = load_cosmology.load_cosmology_input(input_file_path) \n",
    "cosmos_LCDM = load_cosmology.load_LCDM_cosmology_input(input_file_path)\n",
    "print(\"computing the non-linear total matter power spectrum in the folowing MDM colsmology \\n\")\n",
    "print(\"omega_m = {0} \\nomega_cdm = {1} \\nomega_ax = {2} \\nomega_b = {3} \\nm_ax = {4}eV \\nz = {5} \\nh = {6} \\n\".format(cosmos['omega_m_0'], cosmos['omega_d_0'], cosmos['omega_ax_0'], cosmos['omega_b_0'], \n",
    "                                                                                                                          cosmos['m_ax'], cosmos['z'], cosmos['h']))\n",
    "\n",
    "\n",
    "################################################################################\n",
    "# Run axionCAMB on mixed and LCDM cosmology \n",
    "################################################################################\n",
    "print('-' * 50)\n",
    "print(\"axionCAMB is running. Computes transfer function for cosmology with a axion fraction of {}\"\n",
    "      .format(cosmos['Omega_ax_0']/(cosmos['Omega_ax_0']+cosmos['Omega_d_0'])))\n",
    "axionCAMB_wrapper.axioncamb_params('paramfiles/paramfile_axionCAMB.txt', \n",
    "                                   cosmos, output_root='paramfiles/cosmos', print_info = False)\n",
    "axionCAMB_wrapper.run_axioncamb('paramfiles/paramfile_axionCAMB.txt', \n",
    "                                axionCAMB_exe_path, \n",
    "                                cosmos, print_info = False)\n",
    "\n",
    "print(\"axionCAMB is running. Computes transfer function for a LCDM cosmology\")\n",
    "axionCAMB_wrapper.axioncamb_params('paramfiles/paramfile_axionCAMB_LCDM.txt', \n",
    "                                   cosmos_LCDM, output_root='paramfiles/cosmos_LCDM', print_info = False)\n",
    "axionCAMB_wrapper.run_axioncamb('paramfiles/paramfile_axionCAMB_LCDM.txt', \n",
    "                                axionCAMB_exe_path, \n",
    "                                cosmos_LCDM, print_info = False)\n",
    "print(\"computation time: {:.0f} s\".format(time.time() -start))\n",
    "\n",
    "\n",
    "################################################################################\n",
    "# Create linear power spectra from axionCAMB tranfer functions \n",
    "################################################################################\n",
    "#lin PS on given k range\n",
    "power_spec_dic_ax = lin_power_spectrum.func_power_spec_dic('paramfiles/cosmos_transfer_out.dat', cosmos)\n",
    "power_spec_dic_LCDM = lin_power_spectrum.func_power_spec_dic('paramfiles/cosmos_LCDM_transfer_out.dat', cosmos_LCDM)\n",
    "#interpolated lin PS for the correct computations of the variance\n",
    "\n",
    "\n",
    "\n",
    "################################################################################\n",
    "# Compute parameter related to axions and HMCode2020\n",
    "################################################################################\n",
    "print('-' * 50)\n",
    "M_arr = np.logspace(cosmos['M_min'], cosmos['M_max'], 100)\n",
    "print(\"Calculate axion quantities; cut-off mass, central density scale of axion density profile and axion halo mass.\")\n",
    "axion_param = axion_params.func_axion_param_dic(M_arr, cosmos, power_spec_dic_ax)\n",
    "print(\"Create dictionary with parameters of HMCode2020\")\n",
    "hmcode_params = HMcode_params.HMCode_param_dic(cosmos, power_spec_dic_ax['k'], power_spec_dic_ax['power_cold'])\n",
    "hmcode_params_LCDM = HMcode_params.HMCode_param_dic(cosmos_LCDM, power_spec_dic_LCDM['k'], power_spec_dic_LCDM['power_cold'])\n",
    "print(\"computation time upto here: {:.0f} s\".format(time.time() -start))\n",
    "\n",
    "\n",
    "\n",
    "\n",
    "\n",
    "\n"
   ]
  },
  {
   "cell_type": "code",
   "execution_count": 3,
   "id": "2f7a4101",
   "metadata": {},
   "outputs": [
    {
     "name": "stdout",
     "output_type": "stream",
     "text": [
      "--------------------------------------------------\n",
      "Caluclate non-linear power spectrum in mixed DM cosmology with the halo model\n",
      "Caluclate non-linear power spectrum in LCDM cosmology with the halo model\n",
      "--------------------------------------------------\n",
      "Save the non-linear power spectra in a file in the folowing order:\n",
      "k [h/Mpc], non-lin total matter PS with axions [(Mpc/h)^3] and non-lin total matter PS in LCDM [(Mpc/h)^3]\n",
      "##################################################\n",
      "axionHMcode is finished, total computation time: 196 s\n",
      "##################################################\n"
     ]
    },
    {
     "data": {
      "image/png": "[encoded data removed]",
      "text/plain": [
       "<Figure size 640x480 with 1 Axes>"
      ]
     },
     "metadata": {},
     "output_type": "display_data"
    }
   ],
   "source": [
    "\n",
    "################################################################################\n",
    "# Caluclate non-linear power spectrum in mixed DM and LCDM cosmology\n",
    "################################################################################\n",
    "print('-' * 50)\n",
    "print('Caluclate non-linear power spectrum in mixed DM cosmology with the halo model')\n",
    "PS_matter_nonlin = PS_nonlin_axion.func_full_halo_model_ax(M_arr, power_spec_dic_ax, \n",
    "                                                              cosmos, hmcode_params, axion_param,\n",
    "                                                              alpha = False, \n",
    "                                                              eta_given = False, \n",
    "                                                              one_halo_damping = True, \n",
    "                                                              two_halo_damping = False)\n",
    "\n",
    "print('Caluclate non-linear power spectrum in LCDM cosmology with the halo model')\n",
    "PS_LCDM_matter_nonlin = PS_nonlin_cold.func_non_lin_PS_matter(M_arr, power_spec_dic_LCDM['k'], power_spec_dic_LCDM['power_total'], \n",
    "                                                              cosmos_LCDM, hmcode_params_LCDM, cosmos_LCDM['Omega_m_0'],\n",
    "                                                              alpha = False, \n",
    "                                                              eta_given = False, \n",
    "                                                              one_halo_damping = True, \n",
    "                                                              two_halo_damping = False)\n",
    "\n",
    "\n",
    "################################################################################\n",
    "# Save both power stepctra in files\n",
    "################################################################################\n",
    "print('-' * 50)\n",
    "print(\"Save the non-linear power spectra in a file in the folowing order:\")\n",
    "print(\"k [h/Mpc], non-lin total matter PS with axions [(Mpc/h)^3] and non-lin total matter PS in LCDM [(Mpc/h)^3]\")\n",
    "data_ax = np.column_stack([power_spec_dic_ax['k'], PS_matter_nonlin[0], PS_LCDM_matter_nonlin[0]] )\n",
    "datafile_path = \"nonlin_PS_with_axion.txt\" #change path if you want\n",
    "np.savetxt(datafile_path , data_ax)\n",
    "\n",
    "\n",
    "\n",
    "print('#' * 50)\n",
    "print(\"axionHMcode is finished, total computation time: {:.0f} s\".format(time.time() -start))\n",
    "print('#' * 50)\n",
    "\n",
    "\n",
    "################################################################################\n",
    "# Make ratio plot of the two power spectra\n",
    "################################################################################\n",
    "plt.semilogx(power_spec_dic_ax['k'], PS_matter_nonlin[0]/PS_LCDM_matter_nonlin[0], label='non-linear ratio', color='r')\n",
    "plt.semilogx(power_spec_dic_ax['k'], power_spec_dic_ax['power_total']/power_spec_dic_LCDM['power_total'], label='linear ratio', linestyle='--', color='r')\n",
    "plt.axhline(y = 1, linestyle=':', color='black')\n",
    "plt.margins(x=0)\n",
    "plt.legend(loc='lower left')\n",
    "plt.xlabel(r'$k$ [$h/\\mathrm{Mpc}$]')\n",
    "plt.ylabel(r'$P(k)_{\\mathrm{mixed\\,DM}}/P(k)_{\\mathrm{LCDM}}$')\n",
    "plt.show()\n"
   ]
  },
  {
   "cell_type": "code",
   "execution_count": 4,
   "id": "62b0bba7-c23b-4e99-b987-7d8bf753733c",
   "metadata": {},
   "outputs": [],
   "source": [
    "PS_matter_nonlin = PS_nonlin_axion.func_full_halo_model_ax(M_arr, power_spec_dic_ax, \n",
    "                                                              cosmos, hmcode_params, axion_param,\n",
    "                                                              alpha = False, \n",
    "                                                              eta_given = False, \n",
    "                                                              one_halo_damping = True, \n",
    "                                                              two_halo_damping = False\n",
    "                                                              )"
   ]
  },
  {
   "cell_type": "code",
   "execution_count": null,
   "id": "b369bd6e",
   "metadata": {},
   "outputs": [],
   "source": []
  }
 ],
 "metadata": {
  "kernelspec": {
   "display_name": "Python 3",
   "language": "python",
   "name": "python3"
  },
  "language_info": {
   "codemirror_mode": {
    "name": "ipython",
    "version": 3
   },
   "file_extension": ".py",
   "mimetype": "text/x-python",
   "name": "python",
   "nbconvert_exporter": "python",
   "pygments_lexer": "ipython3",
   "version": "3.9.17"
  }
 },
 "nbformat": 4,
 "nbformat_minor": 5
}
